{
 "cells": [
  {
   "cell_type": "code",
   "execution_count": 2,
   "metadata": {},
   "outputs": [],
   "source": [
    "import pandas as pd\n",
    "import numpy as np\n",
    "from sklearn import linear_model\n",
    "import matplotlib as mp\n",
    "from matplotlib import pyplot as plt\n",
    "import seaborn as sns\n",
    "import time\n",
    "from sklearn.preprocessing import PolynomialFeatures\n",
    "# mp.use(\"PS\")\n"
   ]
  },
  {
   "cell_type": "code",
   "execution_count": 4,
   "metadata": {},
   "outputs": [],
   "source": [
    "df = pd.read_csv(\"prac.csv\")\n",
    "df = df.dropna(how='any',axis=0)\n",
    "courses = df.Courses.unique()\n",
    "features = ['Design','Database','Presentation','Logic','Science',\n",
    "                 'Stats','Humanities','Pure Math']\n",
    "ratings = [7,4,7,7,7,7,7,7]"
   ]
  },
  {
   "cell_type": "code",
   "execution_count": null,
   "metadata": {
    "scrolled": true
   },
   "outputs": [],
   "source": [
    "# features = ['Design','Database','Presentation','Logic','Science',\n",
    "#                  'Stats','Humanities','Pure Math']\n",
    "# model = {}\n",
    "for course in courses:\n",
    "    temp_df = df[df['Courses'] == course]\n",
    "    print(course)\n",
    "    figure = plt.figure()\n",
    "    sns.heatmap(temp_df.corr())\n",
    "    plt.show()\n",
    "#     print(temp_df.corr())\n",
    "#     plt.plot(temp_df[features],temp_df['Marks'])\n",
    "    for feature in features:\n",
    "        plt.scatter(temp_df[feature],temp_df['Marks'])\n",
    "#         plt.legend()\n",
    "#         correlation = temp_df.corr(temp_df[temp_df[feature]])\n",
    "#         print(feature)\n",
    "#         plt.scatter(temp_df[feature],temp_df['Marks'])\n",
    "    plt.show()\n",
    "\n",
    "#         time.sleep(5)\n",
    "    "
   ]
  },
  {
   "cell_type": "code",
   "execution_count": 129,
   "metadata": {
    "scrolled": true
   },
   "outputs": [
    {
     "name": "stdout",
     "output_type": "stream",
     "text": [
      "Polynomial Degree 2\n",
      "\n",
      "Software Engineering | 76\n",
      "Calculus | 72\n",
      "Differential Equations | 67\n",
      "Linear Algebra | 72\n",
      "Probability | 62\n",
      "Numerical Computing | 75\n",
      "Data Structures | 64\n",
      "Algorithms | 62\n",
      "Software Design & Analysis | 78\n",
      "Operting Systems | 73\n",
      "Programming Fundamentals | 70\n",
      "Discrete Structures | 57\n",
      "English Composition & Comprehension | 73\n",
      "Communication & Presentation Skills | 74\n",
      "Mass communication | 69\n",
      "Enterprenuership | 63\n",
      "Technical & Business Writing | 68\n"
     ]
    }
   ],
   "source": [
    "features = ['Design','Database','Presentation','Logic','Science',\n",
    "                 'Stats','Humanities','Pure Math']\n",
    "print(\"Polynomial Degree 2\\n\")\n",
    "\n",
    "for course in courses:\n",
    "    pol_reg = PolynomialFeatures(degree=2)\n",
    "    temp_df = df[df['Courses'] == course]\n",
    "    weights = pol_reg.fit_transform(temp_df[features],temp_df.Marks)\n",
    "#     print(weights)\n",
    "    reg_model = linear_model.LinearRegression()\n",
    "    reg_model.fit(weights,temp_df.Marks)\n",
    "    result = int(reg_model.predict(pol_reg.fit_transform([ratings])))\n",
    "    print(course, \"|\", result)\n",
    "#     print(reg_model.coef_)\n",
    "#     print(reg_model.intercept_)\n"
   ]
  },
  {
   "cell_type": "code",
   "execution_count": 130,
   "metadata": {
    "scrolled": true
   },
   "outputs": [
    {
     "name": "stdout",
     "output_type": "stream",
     "text": [
      "Polynomial Degree 3\n",
      "\n",
      "Software Engineering | 72\n",
      "Calculus | 68\n",
      "Differential Equations | 65\n",
      "Linear Algebra | 70\n",
      "Probability | 62\n",
      "Numerical Computing | 74\n",
      "Data Structures | 65\n",
      "Algorithms | 59\n",
      "Software Design & Analysis | 78\n",
      "Operting Systems | 76\n",
      "Programming Fundamentals | 72\n",
      "Discrete Structures | 55\n",
      "English Composition & Comprehension | 76\n",
      "Communication & Presentation Skills | 74\n",
      "Mass communication | 72\n",
      "Enterprenuership | 64\n",
      "Technical & Business Writing | 68\n"
     ]
    }
   ],
   "source": [
    "features = ['Design','Database','Presentation','Logic','Science',\n",
    "                 'Stats','Humanities','Pure Math']\n",
    "\n",
    "print(\"Polynomial Degree 3\\n\")\n",
    "for course in courses:\n",
    "    pol_reg = PolynomialFeatures(degree=3)\n",
    "    temp_df = df[df['Courses'] == course]\n",
    "#     print(course)\n",
    "    weights = pol_reg.fit_transform(temp_df[features],temp_df.Marks)\n",
    "#     print(weights)\n",
    "    reg_model = linear_model.LinearRegression()\n",
    "    reg_model.fit(weights,temp_df.Marks)\n",
    "    result = int(reg_model.predict(pol_reg.fit_transform([ratings])))\n",
    "    print(course, \"|\", result)\n",
    "#     print(reg_model.coef_)\n",
    "#     print(reg_model.intercept_)\n"
   ]
  },
  {
   "cell_type": "code",
   "execution_count": 134,
   "metadata": {
    "scrolled": false
   },
   "outputs": [
    {
     "name": "stdout",
     "output_type": "stream",
     "text": [
      "Polynomial Degree 4\n",
      "\n",
      "Software Engineering | 72\n",
      "(7, 495)\n",
      "Calculus | 64\n",
      "(6, 495)\n",
      "Differential Equations | 64\n",
      "(6, 495)\n",
      "Linear Algebra | 69\n",
      "(6, 495)\n",
      "Probability | 63\n",
      "(6, 495)\n",
      "Numerical Computing | 72\n",
      "(6, 495)\n",
      "Data Structures | 67\n",
      "(5, 495)\n",
      "Algorithms | 56\n",
      "(5, 495)\n",
      "Software Design & Analysis | 77\n",
      "(5, 495)\n",
      "Operting Systems | 79\n",
      "(5, 495)\n",
      "Programming Fundamentals | 75\n",
      "(5, 495)\n",
      "Discrete Structures | 52\n",
      "(5, 495)\n",
      "English Composition & Comprehension | 78\n",
      "(7, 495)\n",
      "Communication & Presentation Skills | 73\n",
      "(7, 495)\n",
      "Mass communication | 73\n",
      "(7, 495)\n",
      "Enterprenuership | 65\n",
      "(7, 495)\n",
      "Technical & Business Writing | 69\n",
      "(7, 495)\n"
     ]
    }
   ],
   "source": [
    "features = ['Design','Database','Presentation','Logic','Science',\n",
    "                 'Stats','Humanities','Pure Math']\n",
    "\n",
    "print(\"Polynomial Degree 4\\n\")\n",
    "for course in courses:\n",
    "    pol_reg = PolynomialFeatures(degree=4)\n",
    "    temp_df = df[df['Courses'] == course]\n",
    "    weights = pol_reg.fit_transform(temp_df[features],temp_df.Marks)\n",
    "    reg_model = linear_model.LinearRegression()\n",
    "    reg_model.fit(weights,temp_df.Marks)\n",
    "    result = int(reg_model.predict(pol_reg.fit_transform([ratings])))\n",
    "    print(course, \"|\", result)\n",
    "    print(weights.shape)\n"
   ]
  },
  {
   "cell_type": "code",
   "execution_count": 132,
   "metadata": {},
   "outputs": [
    {
     "name": "stdout",
     "output_type": "stream",
     "text": [
      "Linear Model\n",
      "\n",
      "Software Engineering | 74\n",
      "Calculus | 82\n",
      "Differential Equations | 73\n",
      "Linear Algebra | 64\n",
      "Probability | 60\n",
      "Numerical Computing | 65\n",
      "Data Structures | 59\n",
      "Algorithms | 65\n",
      "Software Design & Analysis | 63\n",
      "Operting Systems | 66\n",
      "Programming Fundamentals | 69\n",
      "Discrete Structures | 58\n",
      "English Composition & Comprehension | 66\n",
      "Communication & Presentation Skills | 73\n",
      "Mass communication | 67\n",
      "Enterprenuership | 60\n",
      "Technical & Business Writing | 69\n"
     ]
    }
   ],
   "source": [
    "print(\"Linear Model\\n\")\n",
    "for course in courses:\n",
    "    temp_df = df[df['Courses'] == course]\n",
    "    reg_model = linear_model.LinearRegression()\n",
    "    reg_model.fit(temp_df[features],temp_df.Marks)\n",
    "    # print(course, \"|\",reg_model.predict([ratings]))\n",
    "    model[course]=reg_model\n",
    "    result = int(reg_model.predict([ratings]))\n",
    "    print(course, \"|\",result)"
   ]
  },
  {
   "cell_type": "code",
   "execution_count": null,
   "metadata": {},
   "outputs": [],
   "source": []
  }
 ],
 "metadata": {
  "kernelspec": {
   "display_name": "Python 3",
   "language": "python",
   "name": "python3"
  },
  "language_info": {
   "codemirror_mode": {
    "name": "ipython",
    "version": 3
   },
   "file_extension": ".py",
   "mimetype": "text/x-python",
   "name": "python",
   "nbconvert_exporter": "python",
   "pygments_lexer": "ipython3",
   "version": "3.8.5"
  }
 },
 "nbformat": 4,
 "nbformat_minor": 2
}
